{
 "cells": [
  {
   "cell_type": "code",
   "execution_count": 6,
   "metadata": {},
   "outputs": [
    {
     "name": "stderr",
     "output_type": "stream",
     "text": [
      "                                                                                \r"
     ]
    },
    {
     "name": "stdout",
     "output_type": "stream",
     "text": [
      "+-----------------+\n",
      "|            Nomes|\n",
      "+-----------------+\n",
      "|   Frances Bennet|\n",
      "|    Jamie Russell|\n",
      "|   Edward Kistler|\n",
      "|    Sheila Maurer|\n",
      "| Donald Golightly|\n",
      "|       David Gray|\n",
      "|      Joy Bennett|\n",
      "|      Paul Kriese|\n",
      "|Berniece Ornellas|\n",
      "|    Brian Farrell|\n",
      "+-----------------+\n",
      "only showing top 10 rows\n",
      "\n"
     ]
    }
   ],
   "source": [
    "from pyspark.sql import SparkSession\n",
    "from pyspark import SparkContext, SQLContext\n",
    "from pyspark.sql.functions import udf, col, rand, floor,expr\n",
    "from pyspark.sql.types import StringType, IntegerType\n",
    "import random\n",
    "\n",
    "random.seed(40)\n",
    "\n",
    "spark = SparkSession \\\n",
    "        .builder \\\n",
    "        .master (\"local[*]\") \\\n",
    "        .appName (\"Exercicio Intro\") \\\n",
    "        .getOrCreate()\n",
    "\n",
    "caminho_arquivo = ('/home/luana/PB_LUANA_NOVAIS/Sprint_8/exercicios/geração-massa de dados/nome_aleatorios.txt')\n",
    "\n",
    "df_nomes = spark.read.csv(caminho_arquivo,\n",
    "    header=False,       \n",
    "    inferSchema=True,   \n",
    "    sep=\",\")      \n",
    "\n",
    "df_nomes = df_nomes.toDF(\"Nomes\")\n",
    "\n",
    "df_nomes.show(10)"
   ]
  },
  {
   "cell_type": "code",
   "execution_count": 7,
   "metadata": {},
   "outputs": [
    {
     "name": "stdout",
     "output_type": "stream",
     "text": [
      "+-----------------+------------+\n",
      "|            Nomes|Escolaridade|\n",
      "+-----------------+------------+\n",
      "|   Frances Bennet| Fundamental|\n",
      "|    Jamie Russell|    Superior|\n",
      "|   Edward Kistler|       Médio|\n",
      "|    Sheila Maurer|       Médio|\n",
      "| Donald Golightly|       Médio|\n",
      "|       David Gray|    Superior|\n",
      "|      Joy Bennett| Fundamental|\n",
      "|      Paul Kriese| Fundamental|\n",
      "|Berniece Ornellas|       Médio|\n",
      "|    Brian Farrell|    Superior|\n",
      "+-----------------+------------+\n",
      "only showing top 10 rows\n",
      "\n"
     ]
    }
   ],
   "source": [
    "def gerar_escolaridade():\n",
    "    return random.choice([\"Fundamental\", \"Médio\", \"Superior\"])\n",
    "\n",
    "gerar_escolaridade_udf = udf(gerar_escolaridade, StringType())\n",
    "df_nomes = df_nomes.withColumn(\"Escolaridade\", gerar_escolaridade_udf())\n",
    "\n",
    "df_nomes.show(10)"
   ]
  },
  {
   "cell_type": "code",
   "execution_count": 8,
   "metadata": {},
   "outputs": [
    {
     "name": "stderr",
     "output_type": "stream",
     "text": [
      "[Stage 10:==========================================>              (9 + 3) / 12]\r"
     ]
    },
    {
     "name": "stdout",
     "output_type": "stream",
     "text": [
      "+-----------------+------------+---------+\n",
      "|            Nomes|Escolaridade|     Pais|\n",
      "+-----------------+------------+---------+\n",
      "|   Frances Bennet|    Superior|   Guiana|\n",
      "|    Jamie Russell|    Superior| Suriname|\n",
      "|   Edward Kistler| Fundamental|   Guiana|\n",
      "|    Sheila Maurer| Fundamental|  Uruguai|\n",
      "| Donald Golightly|    Superior|Argentina|\n",
      "|       David Gray|       Médio|  Uruguai|\n",
      "|      Joy Bennett|    Superior|Venezuela|\n",
      "|      Paul Kriese|       Médio| Paraguai|\n",
      "|Berniece Ornellas| Fundamental|Argentina|\n",
      "|    Brian Farrell| Fundamental| Paraguai|\n",
      "+-----------------+------------+---------+\n",
      "only showing top 10 rows\n",
      "\n"
     ]
    },
    {
     "name": "stderr",
     "output_type": "stream",
     "text": [
      "                                                                                \r"
     ]
    }
   ],
   "source": [
    "def gerar_pais():\n",
    "    return random.choice([\"Argentina\",\"Bolívia\",\"Brasil\",\"Chile\",\"Colômbia\",\"Equador\",\"Guiana\",\"Paraguai\",\"Peru\",\n",
    "                          \"Suriname\",\"Uruguai\",\"Venezuela\",\"Guiana Francesa\"])\n",
    "\n",
    "gerar_pais_udf = udf(gerar_pais,StringType())\n",
    "df_nomes = df_nomes.withColumn(\"Pais\", gerar_pais_udf())\n",
    "\n",
    "df_nomes.show(10)\n"
   ]
  },
  {
   "cell_type": "code",
   "execution_count": null,
   "metadata": {},
   "outputs": [
    {
     "name": "stdout",
     "output_type": "stream",
     "text": [
      "+-----------------+------------+---------+-------------+\n",
      "|            Nomes|Escolaridade|     Pais|AnoNascimento|\n",
      "+-----------------+------------+---------+-------------+\n",
      "|   Frances Bennet|    Superior|   Guiana|         1988|\n",
      "|    Jamie Russell|    Superior| Suriname|         1957|\n",
      "|   Edward Kistler| Fundamental|   Guiana|         1998|\n",
      "|    Sheila Maurer| Fundamental|  Uruguai|         2005|\n",
      "| Donald Golightly|    Superior|Argentina|         1968|\n",
      "|       David Gray|       Médio|  Uruguai|         2003|\n",
      "|      Joy Bennett|    Superior|Venezuela|         1971|\n",
      "|      Paul Kriese|       Médio| Paraguai|         1972|\n",
      "|Berniece Ornellas| Fundamental|Argentina|         1978|\n",
      "|    Brian Farrell| Fundamental| Paraguai|         1972|\n",
      "+-----------------+------------+---------+-------------+\n",
      "only showing top 10 rows\n",
      "\n"
     ]
    }
   ],
   "source": [
    "df_nomes = df_nomes.withColumn(\n",
    "    \"AnoNascimento\", \n",
    "    expr(\"CAST(rand() * (2010 - 1945 + 1) + 1945 AS INT)\")\n",
    ")\n",
    "\n",
    "df_nomes.show(10)"
   ]
  },
  {
   "cell_type": "code",
   "execution_count": 10,
   "metadata": {},
   "outputs": [
    {
     "name": "stdout",
     "output_type": "stream",
     "text": [
      "+---------------+------------+---------------+-------------+\n",
      "|          Nomes|Escolaridade|           Pais|AnoNascimento|\n",
      "+---------------+------------+---------------+-------------+\n",
      "|  Sheila Maurer| Fundamental|        Uruguai|         2005|\n",
      "|     David Gray|       Médio|        Uruguai|         2003|\n",
      "| Kara Mcelwaine|    Superior|       Colômbia|         2002|\n",
      "|  Tracy Herring|    Superior|        Equador|         2003|\n",
      "| Herbert Morris|    Superior|        Equador|         2009|\n",
      "|     Daryl Page|       Médio|      Argentina|         2007|\n",
      "|Kenneth Rayburn|    Superior|Guiana Francesa|         2003|\n",
      "| Mary Dillahunt|    Superior|       Suriname|         2007|\n",
      "|  George Miller| Fundamental|         Guiana|         2005|\n",
      "|Charles Randall| Fundamental|       Suriname|         2006|\n",
      "+---------------+------------+---------------+-------------+\n",
      "only showing top 10 rows\n",
      "\n"
     ]
    }
   ],
   "source": [
    "df_select = df_nomes.filter((col(\"AnoNascimento\") >= 2001))\n",
    "\n",
    "df_select.show(10)"
   ]
  },
  {
   "cell_type": "code",
   "execution_count": 11,
   "metadata": {},
   "outputs": [
    {
     "name": "stdout",
     "output_type": "stream",
     "text": [
      "+---------------+-------------+\n",
      "|          Nomes|AnoNascimento|\n",
      "+---------------+-------------+\n",
      "|  Sheila Maurer|         2005|\n",
      "|     David Gray|         2003|\n",
      "| Kara Mcelwaine|         2002|\n",
      "|  Tracy Herring|         2003|\n",
      "| Herbert Morris|         2009|\n",
      "|     Daryl Page|         2007|\n",
      "|Kenneth Rayburn|         2003|\n",
      "| Mary Dillahunt|         2007|\n",
      "|  George Miller|         2005|\n",
      "|Charles Randall|         2006|\n",
      "+---------------+-------------+\n",
      "only showing top 10 rows\n",
      "\n"
     ]
    }
   ],
   "source": [
    "df_nomes.createOrReplaceTempView(\"tabela_nomes\")\n",
    "\n",
    "df_nomes_sec = spark.sql(\"\"\"\n",
    "    SELECT Nomes, AnoNascimento\n",
    "    FROM tabela_nomes\n",
    "    WHERE AnoNascimento BETWEEN 2001 AND 2010\n",
    "\"\"\")\n",
    "\n",
    "df_nomes_sec.show(10)\n"
   ]
  },
  {
   "cell_type": "code",
   "execution_count": 12,
   "metadata": {},
   "outputs": [
    {
     "name": "stderr",
     "output_type": "stream",
     "text": [
      "[Stage 15:>                                                       (0 + 12) / 12]\r"
     ]
    },
    {
     "name": "stdout",
     "output_type": "stream",
     "text": [
      "Total de millennials: 2269391\n"
     ]
    },
    {
     "name": "stderr",
     "output_type": "stream",
     "text": [
      "                                                                                \r"
     ]
    }
   ],
   "source": [
    "df_milennials = df_nomes.filter((col(\"AnoNascimento\") >= 1980) & (col(\"AnoNascimento\") <= 1994))\n",
    "\n",
    "num_milennials = df_milennials.count()\n",
    "print(f\"Total de millennials: {num_milennials}\")"
   ]
  },
  {
   "cell_type": "code",
   "execution_count": 15,
   "metadata": {},
   "outputs": [
    {
     "name": "stderr",
     "output_type": "stream",
     "text": [
      "[Stage 18:=================================>                       (7 + 5) / 12]\r"
     ]
    },
    {
     "name": "stdout",
     "output_type": "stream",
     "text": [
      "+---------------+\n",
      "|TotalMilennials|\n",
      "+---------------+\n",
      "|        2269391|\n",
      "+---------------+\n",
      "\n"
     ]
    },
    {
     "name": "stderr",
     "output_type": "stream",
     "text": [
      "                                                                                \r"
     ]
    }
   ],
   "source": [
    "df_nomes.createOrReplaceTempView(\"tabela_nomes\")\n",
    "\n",
    "df_nomes_milennials = spark.sql(\"\"\"\n",
    "    SELECT COUNT(AnoNascimento) AS TotalMilennials\n",
    "    FROM tabela_nomes\n",
    "    WHERE AnoNascimento BETWEEN 1980 AND 1994\n",
    "\"\"\")\n",
    "\n",
    "df_nomes_milennials.show()"
   ]
  },
  {
   "cell_type": "code",
   "execution_count": 16,
   "metadata": {},
   "outputs": [
    {
     "name": "stderr",
     "output_type": "stream",
     "text": [
      "[Stage 21:======================================>                  (8 + 4) / 12]\r"
     ]
    },
    {
     "name": "stdout",
     "output_type": "stream",
     "text": [
      "+---------+------------+----------+\n",
      "|     pais|     Geracao|Quantidade|\n",
      "+---------+------------+----------+\n",
      "|Argentina|Baby Boomers|    232738|\n",
      "|Argentina|   Geração X|    174354|\n",
      "|Argentina|   Geração Z|    186703|\n",
      "|Argentina| Millennials|    174871|\n",
      "|  Bolívia|Baby Boomers|    233207|\n",
      "|  Bolívia|   Geração X|    174625|\n",
      "|  Bolívia|   Geração Z|    186724|\n",
      "|  Bolívia| Millennials|    174939|\n",
      "|   Brasil|Baby Boomers|    234417|\n",
      "|   Brasil|   Geração X|    174879|\n",
      "|   Brasil|   Geração Z|    186925|\n",
      "|   Brasil| Millennials|    174325|\n",
      "|    Chile|Baby Boomers|    233721|\n",
      "|    Chile|   Geração X|    175477|\n",
      "|    Chile|   Geração Z|    185924|\n",
      "|    Chile| Millennials|    173714|\n",
      "| Colômbia|Baby Boomers|    233241|\n",
      "| Colômbia|   Geração X|    174728|\n",
      "| Colômbia|   Geração Z|    186482|\n",
      "| Colômbia| Millennials|    174680|\n",
      "+---------+------------+----------+\n",
      "only showing top 20 rows\n",
      "\n"
     ]
    },
    {
     "name": "stderr",
     "output_type": "stream",
     "text": [
      "                                                                                \r"
     ]
    }
   ],
   "source": [
    "df_nomes.createOrReplaceTempView(\"tabela_nomes\")\n",
    "\n",
    "df_resultado = spark.sql(\"\"\"\n",
    "select \n",
    "    pais,\n",
    "    case \n",
    "        WHEN AnoNascimento BETWEEN 1944 AND 1964 THEN 'Baby Boomers'\n",
    "        WHEN AnoNascimento BETWEEN 1965 AND 1979 THEN 'Geração X'\n",
    "        WHEN AnoNascimento BETWEEN 1980 AND 1994 THEN 'Millennials'\n",
    "        WHEN AnoNascimento BETWEEN 1995 AND 2015 THEN 'Geração Z'\n",
    "        ELSE 'Outros'\n",
    "    END AS Geracao,\n",
    "        COUNT(*) AS Quantidade\n",
    "    FROM tabela_nomes\n",
    "    GROUP BY Pais, Geracao\n",
    "    ORDER BY Pais ASC, Geracao ASC, Quantidade ASC\n",
    "\"\"\")\n",
    "\n",
    "df_resultado.show()\n"
   ]
  }
 ],
 "metadata": {
  "kernelspec": {
   "display_name": "Python 3",
   "language": "python",
   "name": "python3"
  },
  "language_info": {
   "codemirror_mode": {
    "name": "ipython",
    "version": 3
   },
   "file_extension": ".py",
   "mimetype": "text/x-python",
   "name": "python",
   "nbconvert_exporter": "python",
   "pygments_lexer": "ipython3",
   "version": "3.10.12"
  }
 },
 "nbformat": 4,
 "nbformat_minor": 2
}
